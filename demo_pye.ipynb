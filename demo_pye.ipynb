{
 "cells": [
  {
   "attachments": {
    "logo.jpg": {
     "image/jpeg": "[encoded data removed]"
    }
   },
   "cell_type": "markdown",
   "metadata": {},
   "source": [
    "![logo.jpg](attachment:logo.jpg)\n",
    "\n",
    "# Curso de Inteligencia Artificial con Python\n",
    "# Unidad 2-Transformación de imágenes"
   ]
  },
  {
   "cell_type": "markdown",
   "metadata": {},
   "source": [
    "---"
   ]
  },
  {
   "cell_type": "markdown",
   "metadata": {},
   "source": [
    "# Introducción\n",
    "\n",
    "En esta unidad aprenderemos a aplicar **transformaciones geométricas** a las imágenes y comprenderemos cómo utilizar\n",
    "esas transformaciones para generar nuevas imágenes a partir de la original con efectos geométricos. Discutiremos la subyacente\n",
    "formulación de matrices de transformación y cómo podemos formular diferentes tipos de transformaciones basadas en nuestras necesidades. "
   ]
  },
  {
   "cell_type": "markdown",
   "metadata": {},
   "source": [
    "---"
   ]
  },
  {
   "cell_type": "markdown",
   "metadata": {},
   "source": [
    "# Transformaciones de las imágenes"
   ]
  },
  {
   "cell_type": "markdown",
   "metadata": {},
   "source": [
    "<img src=\"http://aprender21.com/demos/pye/transformaciones.jpg\" hspace=\"0\" vspace=\"0\" style=\"float: right; width: 400px; height:300px;\"/>\n",
    "\n",
    " &nbsp;&nbsp;&nbsp;&nbsp; &nbsp;&nbsp;&nbsp;&nbsp;\n",
    " &nbsp;&nbsp;&nbsp;&nbsp; &nbsp;&nbsp;&nbsp;&nbsp;\n",
    "\n",
    "A continuación veremos diversas maneras en las que podemos transformar o modificar una imagen usando OpenCV. Estas transformaciones son deformaciones geométricas que nos permiten ya sea trasladar, reescalar, rotar, reflejar y proyectar una imagen conservando muchas de las propiedades de la imagen original."
   ]
  },
  {
   "cell_type": "markdown",
   "metadata": {},
   "source": [
    "## Escalado de imágenes\n",
    "\n",
    "<img src=\"http://aprender21.com/demos/pye/reescalar.jpg\" hspace=\"0\" vspace=\"0\" style=\"float: right; width: 250px; height:200px;\"/>\n",
    "\n",
    " &nbsp;&nbsp;&nbsp;&nbsp; &nbsp;&nbsp;&nbsp;&nbsp;\n",
    "\n",
    "El escalado de una imagen es el proceso de cambiar o redimensionar el tamaño de la imagen, ya sea que la misma se amplie o se reduzca su tamaño. Es una de las operaciones más comunes y frecuentes que se realizan a una imagen.\n",
    "\n",
    "Veamos algunos ejemplos usando la imagen de las sección anterior.\n"
   ]
  },
  {
   "cell_type": "markdown",
   "metadata": {},
   "source": [
    "### interpolación lineal"
   ]
  },
  {
   "cell_type": "code",
   "execution_count": 3,
   "metadata": {},
   "outputs": [],
   "source": [
    "# Reescalado de ambos ejes de factor 1.2 con interpolación lineal\n",
    "import cv2\n",
    "import numpy as np\n",
    "img=cv2.imread('./imagenes/lena.png')\n",
    "img_escalada = cv2.resize(img,None,fx=1, fy=1.5, interpolation =cv2.INTER_LINEAR)\n",
    "cv2.imshow('Imagen original',img)\n",
    "cv2.imshow('Imagen reescalada',img_escalada)\n",
    "cv2.waitKey();\n",
    "cv2.destroyAllWindows()"
   ]
  },
  {
   "cell_type": "markdown",
   "metadata": {},
   "source": [
    "### Interpolación cúbica"
   ]
  },
  {
   "cell_type": "code",
   "execution_count": 4,
   "metadata": {},
   "outputs": [],
   "source": [
    "# Reescalado en ambos ejes de factor 1.2 con interpolación cúbica\n",
    "img_escalada = cv2.resize(img,None,fx=1.2, fy=1.2, interpolation =cv2.INTER_CUBIC)\n",
    "cv2.imshow('Imagen original',img)\n",
    "cv2.imshow('Imagen reescalada',img_escalada)\n",
    "cv2.waitKey();\n",
    "cv2.destroyAllWindows()"
   ]
  },
  {
   "cell_type": "markdown",
   "metadata": {},
   "source": [
    "### Interpolación de área"
   ]
  },
  {
   "cell_type": "code",
   "execution_count": 5,
   "metadata": {},
   "outputs": [],
   "source": [
    "img_escalada = cv2.resize(img,(450,400),fx=0.5, fy=0.5, interpolation =cv2.INTER_AREA)\n",
    "cv2.imshow('Imagen original',img)\n",
    "cv2.imshow('Imagen reescalada',img_escalada)\n",
    "cv2.waitKey();\n",
    "cv2.destroyAllWindows()"
   ]
  },
  {
   "cell_type": "markdown",
   "metadata": {},
   "source": [
    "Cada vez que cambiamos el tamaño de una imagen, hay múltiples formas de rellenar los valores de los píxeles.\n",
    "Cuando ampliamos una imagen, tenemos que rellenar los valores de los píxeles entre píxeles lugares. Cuando estamos encogiendo una imagen, necesitamos tomar el mejor representante valor. Cuando escalamos por un valor no entero, necesitamos interpolar valores\n",
    "adecuadamente, para que la calidad de la imagen se mantenga. \n",
    "\n",
    "Hay múltiples formas de hacer la interpolación. Si estamos agrandando una imagen, es preferible usar una **lineal o\n",
    "interpolación cúbica**. Si estamos encogiendo una imagen, es preferible usar la basada en el **área\n",
    "interpolación**. La interpolación cúbica es computacionalmente más compleja, y por lo tanto\n",
    "más lenta que la interpolación lineal. Pero la calidad de la imagen resultante será mayor."
   ]
  },
  {
   "cell_type": "markdown",
   "metadata": {},
   "source": [
    "## Rotación de imágenes"
   ]
  },
  {
   "cell_type": "markdown",
   "metadata": {},
   "source": [
    "<img src=\"http://aprender21.com/demos/pye/imagenes/rotacion2.png\" hspace=\"0\" vspace=\"0\" style=\"float: right; width: 200px; height:200px;\"/>\n",
    "\n",
    "&nbsp;&nbsp;&nbsp;&nbsp; &nbsp;&nbsp;&nbsp;&nbsp;\n",
    "&nbsp;&nbsp;&nbsp;&nbsp; &nbsp;&nbsp;&nbsp;&nbsp;\n",
    "\n",
    "La rotación de una imagen consiste en girar la imagen alrededor de un eje una cantidad de grados preestablecidos. En OpenCV podemos hacerlo de la siguiente manera:"
   ]
  },
  {
   "cell_type": "code",
   "execution_count": 8,
   "metadata": {},
   "outputs": [],
   "source": [
    "# Usamos Numpy para extraer el numero de filas y \n",
    "#de columnas de la imagen\n",
    "\n",
    "num_filas, num_colums=img.shape[:2]"
   ]
  },
  {
   "cell_type": "code",
   "execution_count": 10,
   "metadata": {},
   "outputs": [],
   "source": [
    "# Creamos la matriz de rotaciön, en este caso será una \n",
    "#rotación de 30°\n",
    "\n",
    "matriz = cv2.getRotationMatrix2D((num_colums/2, num_filas/2),30, 1)"
   ]
  },
  {
   "cell_type": "code",
   "execution_count": 11,
   "metadata": {},
   "outputs": [],
   "source": [
    "# Se realiza la rotación de la imagen\n",
    "\n",
    "img_rotada=cv2.warpAffine(img,matriz,(num_colums,num_filas))\n",
    "cv2.imshow('Imagen rotada',img_rotada)\n",
    "cv2.waitKey();\n",
    "cv2.destroyAllWindows()"
   ]
  },
  {
   "cell_type": "markdown",
   "metadata": {},
   "source": [
    "Para realizar la rotación debemos crear la matriz de rotación, para esto usamos el comando **cv2.getRotationMatrix2D**, el cual requiere que se le den como parámetros:\n",
    "* El centro de rotación: En este caso es el punto medio de la imagen\n",
    "* El ángulo de rotación: En este caso se rotó la imagen 30°\n",
    "* Facto o scala: En este caso, la imagen mantuvo la dimensión original y por esto este parámetro es igual a 1. Si queremos reducirla a la mitad colocamos 0.5 y así según lo que se requiera\n",
    "$$T=\\begin{pmatrix} cos(\\theta) & -sen(\\theta)\\\\ sen(\\theta) & cos(\\theta) \\end{pmatrix}$$\n",
    "<img src=\"http://aprender21.com/demos/pye/rotacion.png\" hspace=\"0\" vspace=\"0\" style=\"float: center; width: 250px; height:250px;\"/>"
   ]
  },
  {
   "cell_type": "code",
   "execution_count": 12,
   "metadata": {},
   "outputs": [],
   "source": [
    "# Creamos la matriz de rotaciön, en este caso será una \n",
    "# rotación de 30° y reescalado a 0.5\n",
    "\n",
    "matriz = cv2.getRotationMatrix2D((num_colums/2, num_filas/2), 30, 0.5)\n",
    "\n",
    "# Se realiza la rotación de la imagen\n",
    "\n",
    "img_rotada=cv2.warpAffine(img,matriz,(num_colums,num_filas))\n",
    "cv2.imshow('Imagen rotada',img_rotada)\n",
    "cv2.waitKey();\n",
    "cv2.destroyAllWindows()"
   ]
  },
  {
   "cell_type": "markdown",
   "metadata": {},
   "source": [
    "## Traslación de imágenes"
   ]
  },
  {
   "cell_type": "markdown",
   "metadata": {},
   "source": [
    "<img src=\"http://aprender21.com/demos/pye/traslacion.png\" hspace=\"0\" vspace=\"0\" style=\"float: right; width: 200px; height:200px;\"/>\n",
    "\n",
    "&nbsp;&nbsp;&nbsp;&nbsp; &nbsp;&nbsp;&nbsp;&nbsp;\n",
    "&nbsp;&nbsp;&nbsp;&nbsp; &nbsp;&nbsp;&nbsp;&nbsp;\n",
    "\n",
    "La traslación de imagen se refiere al desplazamiento o movimiento que tiene la misma en algún marco de referencia. Veamos cómo podemos realizar esto con OpenCV"
   ]
  },
  {
   "cell_type": "code",
   "execution_count": 15,
   "metadata": {},
   "outputs": [],
   "source": [
    "num_folas, num_columss = img.shape[:2]\n",
    "matriz = np.float32([ [1,0,70], [0,1,100] ])\n",
    "img_t = cv2.warpAffine(img, matriz, (num_colums,num_filas))\n",
    "cv2.imshow('Imagen original',img)\n",
    "cv2.imshow('Translacion', img_t)\n",
    "cv2.waitKey();\n",
    "cv2.destroyAllWindows()"
   ]
  },
  {
   "cell_type": "markdown",
   "metadata": {},
   "source": [
    "La matriz de la trasnformación tiene la siguiente forma:\n",
    "$$T=\\begin{pmatrix} 1 & 0 & t_{x}\\\\ 0 & 1 & t_{y} \\end{pmatrix}$$\n",
    "\n",
    "donde $t_{x}$ y $t_{y}$ corresponde al desplazamiento que tendrán en el eje $x$ y $y$ respectivamente. En este caso se desplaza 70 pixeles en sentido hotizontal hacia la derecha y 110 pixeles verticalmente hacia abajo. \n",
    "\n",
    "Como se aprecia al ser la imagen muy grande, ésta se corta cuando sobrepasa el marco. Si queremos evitar esto podemos hacer lo siguiente:\n"
   ]
  },
  {
   "cell_type": "code",
   "execution_count": 16,
   "metadata": {},
   "outputs": [],
   "source": [
    "img_t = cv2.warpAffine(img, matriz, (num_colums+70,num_filas+100))\n",
    "cv2.imshow('Imagen original',img)\n",
    "cv2.imshow('Translacion', img_t)\n",
    "cv2.waitKey();\n",
    "cv2.destroyAllWindows()"
   ]
  },
  {
   "cell_type": "markdown",
   "metadata": {},
   "source": [
    "Esto agranda la imagen resultante agregando a cada componente el número de pixeles desplazado."
   ]
  },
  {
   "cell_type": "markdown",
   "metadata": {},
   "source": [
    "### Inclinación de imágenes"
   ]
  },
  {
   "cell_type": "markdown",
   "metadata": {},
   "source": [
    "<img src=\"http://aprender21.com/demos/pye/inclinacion.png\" hspace=\"0\" vspace=\"0\" style=\"float: right; width: 200px; height:200px;\"/>\n",
    "\n",
    "&nbsp;&nbsp;&nbsp;&nbsp; &nbsp;&nbsp;&nbsp;&nbsp;\n",
    "&nbsp;&nbsp;&nbsp;&nbsp; &nbsp;&nbsp;&nbsp;&nbsp;\n",
    "\n",
    "La inclinación transforma una región rectangular en un rombo. Sirve para “simular” una perspectiva. La inclinación pueden ser de la siguiente forma:\n",
    "* Inclinación sobre el eje X, ya sea a la derecha o a la izquierda\n",
    "* Inclinación sobre el eje Y, ya sea hacia arriba o hacia abajo.\n",
    "* Inclinación en X e Y."
   ]
  },
  {
   "cell_type": "markdown",
   "metadata": {},
   "source": [
    "Cuando se va a crear una transformación afin, particular una inclinación, necesitamos tres puntos de control. A partir de estos puntos desplazaremos los restantes manteniendolos en el marco que estos puntos forman. Veamos un ejemplo"
   ]
  },
  {
   "cell_type": "code",
   "execution_count": 17,
   "metadata": {},
   "outputs": [],
   "source": [
    "num_filas, num_colums = img.shape[:2]\n",
    "pto_control = np.float32([[0,0], [num_colums-1,0], [0,num_filas-1]])\n",
    "pto_dest = np.float32([[0,0], [int(0.6*(num_colums-1)),0], [int(0.4*(num_colums-1)),num_filas-1]])\n",
    "matriz = cv2.getAffineTransform(pto_control, pto_dest)\n",
    "img_output = cv2.warpAffine(img,matriz, (num_colums,num_filas))\n",
    "cv2.imshow('Imagen Original', img)\n",
    "cv2.imshow('Imagen de salida', img_output)\n",
    "cv2.waitKey()\n",
    "cv2.destroyAllWindows()"
   ]
  },
  {
   "cell_type": "markdown",
   "metadata": {},
   "source": [
    "La imagen siguiente muestra la inclinación anterior usando los puntos indicados como referencia"
   ]
  },
  {
   "attachments": {
    "transf1.jpg": {
     "image/jpeg": "[encoded data removed]"
    }
   },
   "cell_type": "markdown",
   "metadata": {},
   "source": [
    "![transf1.jpg](attachment:transf1.jpg)"
   ]
  },
  {
   "cell_type": "markdown",
   "metadata": {},
   "source": [
    "Veamos otro ejemplo:"
   ]
  },
  {
   "cell_type": "code",
   "execution_count": 18,
   "metadata": {},
   "outputs": [],
   "source": [
    "pto_control= np.float32([[0,0], [num_colums-1,0], [0,num_filas-1]])\n",
    "pto_dest  = np.float32([[num_colums-1,0], [0,0], [num_colums-1,num_filas-1]])"
   ]
  },
  {
   "cell_type": "code",
   "execution_count": 19,
   "metadata": {},
   "outputs": [],
   "source": [
    "matriz = cv2.getAffineTransform(pto_control, pto_dest)\n",
    "img_output = cv2.warpAffine(img,matriz, (num_colums,num_filas))\n",
    "cv2.imshow('Imagen Original', img)\n",
    "cv2.imshow('Imagen de salida', img_output)\n",
    "cv2.waitKey()\n",
    "cv2.destroyAllWindows()"
   ]
  },
  {
   "attachments": {
    "transf2.jpg": {
     "image/jpeg": "[encoded data removed]"
    }
   },
   "cell_type": "markdown",
   "metadata": {},
   "source": [
    "En este caso vemos una reflexión respecto al eje vertical \n",
    "![transf2.jpg](attachment:transf2.jpg)"
   ]
  },
  {
   "cell_type": "markdown",
   "metadata": {},
   "source": [
    "## Proyecciones\n",
    "<img src=\"http://aprender21.com/demos/pye/proyecciones.png\" hspace=\"0\" vspace=\"0\" style=\"float: right; width: 250px; height:250px;\"/>\n",
    "\n",
    "Las transformaciones afines vistas anteriormenta son agradables, pero imponen ciertas restricciones. Las proyecciones, por otro lado, nos da más libertad. Para entender las transformaciones proyectivas, necesitamos entender cómo funciona la geometría proyectiva. Básicamente describimos lo que le sucede a una imagen cuando se cambia el punto de vista. Por ejemplo, si estás de pie a la derecha delante de una hoja de papel con un cuadrado dibujado en ella, se verá como un cuadrado. Ahora, si empiezas a inclinar esa hoja de papel, el cuadrado empezará a verse más y más como un trapezoide. Las transformaciones proyectivas nos permiten capturar esta dinámica en una bonita de forma matemática. Estas transformaciones no conservan ni tamaños ni ángulos, pero preservan la incidencia y la relación cruzada.\n",
    "\n",
    "Ahora que sabemos lo que son las transformaciones proyectivas, veamos si podemos extraer más información aquí. Podemos decir que dos imágenes cualesquiera en un plano dado están relacionadas por una homografía. Mientras estén en el mismo plano, podemos transformar cualquier cosa en cualquier otra cosa. Esto tiene muchas aplicaciones prácticas como la realidad aumentada, la rectificación de la imagen, el registro de la imagen, o el cálculo del movimiento de la cámara entre dos imágenes. Una vez que la rotación y la traslación de la cámara han sido extraídas de un matriz de homografía estimada, esta información puede ser utilizada para la navegación, o para insertar modelos de objetos 3D en una imagen o video. De esta manera, se renderizan con\n",
    "la perspectiva correcta y parecerá que fueron parte de la escena original.\n"
   ]
  },
  {
   "cell_type": "code",
   "execution_count": null,
   "metadata": {},
   "outputs": [],
   "source": [
    "# Puntos de control\n",
    "src_points = np.float32([[0,0], [cols-1,0], [0,rows-1], [cols-1,rows-1]])\n",
    "dst_points = np.float32([[0,0], [cols-1,0], [int(0.33*cols),rows-1],[int(0.66*cols),rows-1]])"
   ]
  },
  {
   "cell_type": "code",
   "execution_count": 23,
   "metadata": {},
   "outputs": [],
   "source": [
    "rows, cols = img.shape[:2]\n",
    "projective_matrix = cv2.getPerspectiveTransform(src_points, dst_points)\n",
    "img_output = cv2.warpPerspective(img, projective_matrix, (cols,rows))\n",
    "cv2.imshow('Imagen Original', img)\n",
    "cv2.imshow('Proyeccion', img_output)\n",
    "cv2.waitKey()\n",
    "cv2.destroyAllWindows()"
   ]
  },
  {
   "cell_type": "markdown",
   "metadata": {},
   "source": [
    "Podemos elegir cuatro puntos de control en la imagen de origen y mapearlos hacia la imagen destino. Las líneas paralelas no permanecerán paralelas después de la transformación. Usamos una función llamada **getPerspectiveTransform** para obtener la matriz de transformación.\n",
    "\n",
    "Vamos a usar los siguientes puntos de control para crear algunos efectos divertidos usando la transformación proyectiva y veamos qué parecen. Todo lo que tenemos que hacer es cambiar los puntos de control para obtener diferentes efectos."
   ]
  },
  {
   "cell_type": "code",
   "execution_count": 21,
   "metadata": {},
   "outputs": [],
   "source": [
    "# Puntos de control 1\n",
    "src_points = np.float32([[0,0], [0,rows-1], [cols/2,0],[cols/2,rows-1]])\n",
    "dst_points = np.float32([[0,100], [0,rows-101], [cols/2,0],[cols/2,rows-1]])"
   ]
  },
  {
   "cell_type": "markdown",
   "metadata": {},
   "source": [
    "# Fin de la Unidad\n",
    "Con esto hemos cubierto aspectos básicos pero fundamentales en el procesamiento y transformación de imágenes. En la próxima unidad complementaremos con la aplicación de filtros a imágenes. "
   ]
  }
 ],
 "metadata": {
  "kernelspec": {
   "display_name": "Python 3",
   "language": "python",
   "name": "python3"
  },
  "language_info": {
   "codemirror_mode": {
    "name": "ipython",
    "version": 3
   },
   "file_extension": ".py",
   "mimetype": "text/x-python",
   "name": "python",
   "nbconvert_exporter": "python",
   "pygments_lexer": "ipython3",
   "version": "3.7.4"
  }
 },
 "nbformat": 4,
 "nbformat_minor": 2
}
